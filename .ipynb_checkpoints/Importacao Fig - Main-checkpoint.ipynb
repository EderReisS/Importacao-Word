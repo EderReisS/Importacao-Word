{
 "cells": [
  {
   "cell_type": "markdown",
   "id": "81497c42",
   "metadata": {},
   "source": [
    "# # impotação e definição de funções "
   ]
  },
  {
   "cell_type": "code",
   "execution_count": null,
   "id": "931e2363",
   "metadata": {},
   "outputs": [],
   "source": [
    "\n",
    "\n"
   ]
  },
  {
   "cell_type": "code",
   "execution_count": 17,
   "id": "ddf73046",
   "metadata": {},
   "outputs": [
    {
     "name": "stdout",
     "output_type": "stream",
     "text": [
      "['2020-11-03', '2020-11-04', '2020-11-05', '2020-11-06', '2020-11-09']\n",
      "1\n"
     ]
    },
    {
     "data": {
      "text/plain": [
       "[<docx.text.paragraph.Paragraph at 0x1eb90106cd0>,\n",
       " <docx.text.paragraph.Paragraph at 0x1eb90106d30>,\n",
       " <docx.text.paragraph.Paragraph at 0x1eb90106bb0>,\n",
       " <docx.text.paragraph.Paragraph at 0x1eb8f0bd520>,\n",
       " <docx.text.paragraph.Paragraph at 0x1eb8f0bd640>]"
      ]
     },
     "metadata": {},
     "output_type": "display_data"
    }
   ],
   "source": [
    "from docx import Document\n",
    "from docx.shared import Cm\n",
    "import pandas as pd\n",
    "import os\n",
    "from os.path import join, getsize\n",
    "\n",
    "#adiciona a figura no documento word com tamanho tamanho de 8 centímetros   \n",
    "def adcionar_figura(paragrafo, foto,datas):\n",
    "    ind2=foto.index(' at')\n",
    "    ind1=ind2-10\n",
    "    foto=foto[ind1:ind2]\n",
    "    \n",
    "    paragrafo[datas.index(fotos)].add_run().add_picture(figura_name, width=Cm(6.0), height=Cm(6.0))\n",
    "    paragrafo.add_run(' ')\n",
    "    return paragrafo\n",
    "\n",
    "#cria uma lista com todos os caminhos de arquivos do diretório da figura inicial\n",
    "def Paths_Files(d):\n",
    "    lista=[]\n",
    "    #nome da pasta onde estão as figuras\n",
    "    for root, dirs, files in os.walk(d):#varre todos os arquivos\n",
    "            lista.extend(files) #no diretório é acresentado o nome do arquivo\n",
    "    return lista\n",
    "            \n",
    "        \n",
    "\n",
    "\n",
    "\n",
    "\n",
    "\n",
    "#definição da variável document para exportação final de um novo arquivo em word\n",
    "document=Document()\n",
    "\n",
    "#caminho de foto qualquer do diretório cuja demais fotos serão importadas\n",
    "# 'r' no prefixo do cainho para conter erros de raw string vs regular string\n",
    "Fig1 = r\"C:\\Users\\eder\\Documents\\DevProjetos\\Importacao-Word\\Figuras Exemplos\\WhatsApp Image 2020-11-03 at 07.43.40.jpeg\"\n",
    "\n",
    "dir1 = os.path.dirname(Fig1)#nome da pasta onde estão as figuras\n",
    "\n",
    "NomesDir = Paths_Files(dir1)#lista de nome de todos os arquivos da pasta do 'dir1'\n",
    "NomesDir.sort()\n",
    "\n",
    "FigPath=[]#lista com todos os caminhos das figura\n",
    "datas=[]#lista com as datas da\n",
    "\n",
    "\n",
    "for n in NomesDir:#for para filtrar os arquivos imagens válidos\n",
    "      if ('jpeg'or'png') in n:\n",
    "        aux=dir1+\"\\\\\"+n\n",
    "        FigPath.append(aux)\n",
    "else:\n",
    "    del(aux)\n",
    "\n",
    "FigPath.sort()\n",
    "\n",
    "for n in FigPath:\n",
    "    \n",
    "    if 'at' in n:\n",
    "        \n",
    "        ind2=n.index(' at')\n",
    "        ind1=ind2-10\n",
    "        aux=n[ind1:ind2]\n",
    "        if aux not in datas:\n",
    "            datas.append(aux)\n",
    "            \n",
    "else:\n",
    "    del(aux,ind1,ind2)\n",
    "                      \n",
    "datas.sort\n",
    "print(datas)\n",
    "\n",
    "\n",
    "## Próximos passos\n",
    "\n",
    "# 1. Filtrar as as datas para colocar no mesmo titulo\n",
    "\n",
    "datas\n",
    "temp = pd.Timestamp(datas[0])\n",
    "print(temp.dayofweek)\n",
    "\n",
    "## criação dos parágrafos\n",
    "paragrafo=[None]*len(datas)\n",
    "\n",
    "# 2. definição dos paragrafos\n",
    "\n",
    "for dia in datas:\n",
    "    document.add_heading(dia, level=1)\n",
    "    paragrafo[datas.index(dia)]=document.add_paragraph(' ')\n",
    "    \n",
    "# 3. adicionar imagens em cada parágrafo\n",
    "for foto in FigPath:\n",
    "    adcionar_figura(paragrafo,foto,datas)\n",
    "\n",
    "    \n",
    "## exportação ok DE PARÁGRAFO OK!!! \n",
    "display(paragrafo)\n",
    "document.save(\"teste-export6.docx\")\n"
   ]
  },
  {
   "cell_type": "code",
   "execution_count": 18,
   "id": "2c748015",
   "metadata": {},
   "outputs": [
    {
     "data": {
      "text/plain": [
       "['C:\\\\Users\\\\eder\\\\Documents\\\\DevProjetos\\\\Importacao-Word\\\\Figuras Exemplos\\\\WhatsApp Image 2020-11-03 at 07.43.40.jpeg',\n",
       " 'C:\\\\Users\\\\eder\\\\Documents\\\\DevProjetos\\\\Importacao-Word\\\\Figuras Exemplos\\\\WhatsApp Image 2020-11-03 at 10.34.06.jpeg',\n",
       " 'C:\\\\Users\\\\eder\\\\Documents\\\\DevProjetos\\\\Importacao-Word\\\\Figuras Exemplos\\\\WhatsApp Image 2020-11-03 at 10.36.57.jpeg',\n",
       " 'C:\\\\Users\\\\eder\\\\Documents\\\\DevProjetos\\\\Importacao-Word\\\\Figuras Exemplos\\\\WhatsApp Image 2020-11-03 at 11.21.39.jpeg',\n",
       " 'C:\\\\Users\\\\eder\\\\Documents\\\\DevProjetos\\\\Importacao-Word\\\\Figuras Exemplos\\\\WhatsApp Image 2020-11-04 at 08.30.36.jpeg',\n",
       " 'C:\\\\Users\\\\eder\\\\Documents\\\\DevProjetos\\\\Importacao-Word\\\\Figuras Exemplos\\\\WhatsApp Image 2020-11-04 at 08.30.37.jpeg',\n",
       " 'C:\\\\Users\\\\eder\\\\Documents\\\\DevProjetos\\\\Importacao-Word\\\\Figuras Exemplos\\\\WhatsApp Image 2020-11-04 at 09.35.25.jpeg',\n",
       " 'C:\\\\Users\\\\eder\\\\Documents\\\\DevProjetos\\\\Importacao-Word\\\\Figuras Exemplos\\\\WhatsApp Image 2020-11-05 at 16.14.36.jpeg',\n",
       " 'C:\\\\Users\\\\eder\\\\Documents\\\\DevProjetos\\\\Importacao-Word\\\\Figuras Exemplos\\\\WhatsApp Image 2020-11-06 at 09.59.44.jpeg',\n",
       " 'C:\\\\Users\\\\eder\\\\Documents\\\\DevProjetos\\\\Importacao-Word\\\\Figuras Exemplos\\\\WhatsApp Image 2020-11-06 at 10.00.21.jpeg',\n",
       " 'C:\\\\Users\\\\eder\\\\Documents\\\\DevProjetos\\\\Importacao-Word\\\\Figuras Exemplos\\\\WhatsApp Image 2020-11-06 at 10.01.15.jpeg',\n",
       " 'C:\\\\Users\\\\eder\\\\Documents\\\\DevProjetos\\\\Importacao-Word\\\\Figuras Exemplos\\\\WhatsApp Image 2020-11-09 at 11.42.19.jpeg']"
      ]
     },
     "metadata": {},
     "output_type": "display_data"
    }
   ],
   "source": [
    "display(FigPath)"
   ]
  },
  {
   "cell_type": "code",
   "execution_count": 9,
   "id": "09b4dd39",
   "metadata": {},
   "outputs": [
    {
     "data": {
      "text/plain": [
       "3"
      ]
     },
     "execution_count": 9,
     "metadata": {},
     "output_type": "execute_result"
    }
   ],
   "source": [
    "document.add_heading('dia 01', level=1)#adiciona o primeito título para melhor navegação no word\n",
    "\n",
    "p1 = document.add_paragraph(' 1.2 ') #cria o parágrafo escrito \n",
    "\n",
    "p1=adcionar_figura(p1, FigPath[0]) #adiciona a figura logo após os parágrafos acimas já criados\n",
    "\n",
    "\n",
    "#adiciona por ordem de comando, entretanto no paragrafo da variável, independe da posição do comando\n",
    "p2 = document.add_paragraph(' 2.1 ')\n",
    "p2.add_run(' 2.2 ')\n",
    "p2.add_run().add_picture(FigPath[2], width=Cm(6.0), height=Cm(6.0))\n",
    "p2.add_run(' 2.3º ')\n",
    "\n",
    "\n",
    "\n",
    "p[0].add_run().add_picture(FigPath[3], width=Cm(6.0), height=Cm(6.0))\n",
    "p[1].add_run().add_picture(FigPath[3], width=Cm(6.0), height=Cm(6.0))\n",
    "\n",
    "## exportação do arquivo em docx\n",
    "\n",
    "document.save(dir1+\"\\\\\"+\"teste-export5.docx\")"
   ]
  },
  {
   "cell_type": "code",
   "execution_count": 3,
   "id": "fb9dc4a9",
   "metadata": {
    "scrolled": true
   },
   "outputs": [
    {
     "data": {
      "text/plain": [
       "5"
      ]
     },
     "execution_count": 3,
     "metadata": {},
     "output_type": "execute_result"
    }
   ],
   "source": [
    "\n",
    "len(datas)"
   ]
  },
  {
   "cell_type": "code",
   "execution_count": 153,
   "id": "a0081e42",
   "metadata": {},
   "outputs": [
    {
     "name": "stdout",
     "output_type": "stream",
     "text": [
      "2020-11-04\n"
     ]
    }
   ],
   "source": [
    "##maneira bem mais simples de importar filtrado o nome dos arquivos\n",
    "#import os\n",
    "#relevant_path = dir1\n",
    "#included_extensions = ['jpg','jpeg', 'bmp', 'png', 'gif']\n",
    "#file_names = [fn for fn in os.listdir(relevant_path)\n",
    "#              if any(fn.endswith(ext) for ext in included_extensions)]\n",
    "#file_names\n",
    "\n",
    "## modo de coletar a data de cada foto no modelo WhatsApp\n",
    "n=5\n",
    "print(FigPath[n][(FigPath[n].index(' at')-10):FigPath[n].index(' at')])\n",
    "del(n)"
   ]
  }
 ],
 "metadata": {
  "celltoolbar": "Raw Cell Format",
  "kernelspec": {
   "display_name": "Python 3",
   "language": "python",
   "name": "python3"
  },
  "language_info": {
   "codemirror_mode": {
    "name": "ipython",
    "version": 3
   },
   "file_extension": ".py",
   "mimetype": "text/x-python",
   "name": "python",
   "nbconvert_exporter": "python",
   "pygments_lexer": "ipython3",
   "version": "3.8.8"
  }
 },
 "nbformat": 4,
 "nbformat_minor": 5
}
