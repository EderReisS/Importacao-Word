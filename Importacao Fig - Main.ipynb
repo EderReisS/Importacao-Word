{
 "cells": [
  {
   "cell_type": "markdown",
   "source": [
    "# # impotação e definição de funções "
   ],
   "metadata": {}
  },
  {
   "cell_type": "code",
   "execution_count": null,
   "source": [
    "\r\n",
    "\r\n"
   ],
   "outputs": [],
   "metadata": {}
  },
  {
   "cell_type": "code",
   "execution_count": 215,
   "source": [
    "from docx import Document\r\n",
    "from docx.shared import Cm\r\n",
    "import pandas as pd\r\n",
    "from os.path import join, getsize\r\n",
    "\r\n",
    "#adiciona a figura no documento word com tamanho tamanho de 8 centímetros   \r\n",
    "def adcionar_figura(paragrafo, figura_name):\r\n",
    "    paragrafo.add_run(' 1-f' )\r\n",
    "    paragrafo.add_run().add_picture(figura_name, width=Cm(6.0), height=Cm(6.0))\r\n",
    "    paragrafo.add_run(' 2-f ')\r\n",
    "    return paragrafo\r\n",
    "\r\n",
    "#cria uma lista com todos os caminhos de arquivos do diretório da figura inicial\r\n",
    "def Paths_Files(d):\r\n",
    "    lista=[]\r\n",
    "    #nome da pasta onde estão as figuras\r\n",
    "    for root, dirs, files in os.walk(d):#varre todos os arquivos\r\n",
    "            lista.extend(files) #no diretório é acresentado o nome do arquivo\r\n",
    "    return lista\r\n",
    "            \r\n",
    "        \r\n",
    "\r\n",
    "\r\n",
    "\r\n",
    "\r\n",
    "\r\n",
    "#definição da variável document para exportação final de um novo arquivo em word\r\n",
    "document=Document()\r\n",
    "\r\n",
    "#caminho de foto qualquer do diretório cuja demais fotos serão importadas\r\n",
    "# 'r' no prefixo do cainho para conter erros de raw string vs regular string\r\n",
    "Fig1 = r\"C:\\Users\\eder\\Documents\\DevProjetos\\Importacao-Word\\Figuras Exemplos\\WhatsApp Image 2020-11-03 at 07.43.40.jpeg\"\r\n",
    "\r\n",
    "dir1 = os.path.dirname(Fig1)#nome da pasta onde estão as figuras\r\n",
    "\r\n",
    "NomesDir = Paths_Files(dir1)#lista de nome de todos os arquivos da pasta do 'dir1'\r\n",
    "NomesDir.sort()\r\n",
    "\r\n",
    "FigPath=[]#lista com todos os caminhos das figura\r\n",
    "datas=[]#lista com as datas da\r\n",
    "\r\n",
    "\r\n",
    "for n in NomesDir:#for para filtrar os arquivos imagens válidos\r\n",
    "      if ('jpeg'or'png') in n:\r\n",
    "        aux=dir1+\"\\\\\"+n\r\n",
    "        FigPath.append(aux)\r\n",
    "else:\r\n",
    "    del(aux)\r\n",
    "\r\n",
    "FigPath.sort()\r\n",
    "\r\n",
    "for n in FigPath:\r\n",
    "    \r\n",
    "    if 'at' in n:\r\n",
    "        \r\n",
    "        ind2=n.index(' at')\r\n",
    "        ind1=ind2-10\r\n",
    "        aux=n[ind1:ind2]\r\n",
    "        if aux not in datas:\r\n",
    "            datas.append(aux)\r\n",
    "            \r\n",
    "else:\r\n",
    "    del(aux,ind1,ind2)\r\n",
    "                      \r\n",
    "datas.sort\r\n",
    "print(datas)\r\n",
    "\r\n",
    "\r\n",
    "## Próximos passos\r\n",
    "\r\n",
    "# 1. Filtrar as as datas para colocar no mesmo titulo\r\n",
    "\r\n",
    "datas\r\n",
    "temp = pd.Timestamp(datas[0])\r\n",
    "print(temp.dayofweek)\r\n",
    "\r\n",
    "\r\n",
    "# 2. imagens no mesmo título separa por espaço simples\r\n",
    "\r\n",
    "#for dias in data:\r\n",
    "    \r\n",
    "\r\n",
    "\r\n",
    "## CONCEPÇÃO DE PARÁGRAFO OK!!! \r\n",
    "\r\n",
    "document.add_heading('dia 01', level=1)#adiciona o primeito título para melhor navegação no word\r\n",
    "\r\n",
    "p1 = document.add_paragraph(' 1.2 ') #cria o parágrafo escrito \r\n",
    "\r\n",
    "p1=adcionar_figura(p1, FigPath[0]) #adiciona a figura logo após os parágrafos acimas já criados\r\n",
    "\r\n",
    "\r\n",
    "#adiciona por ordem de comando, entretanto no paragrafo da variável, independe da posição do comando\r\n",
    "p2 = document.add_paragraph(' 2.1 ')\r\n",
    "p2.add_run(' 2.2 ')\r\n",
    "p2.add_run().add_picture(FigPath[2], width=Cm(6.0), height=Cm(6.0))\r\n",
    "p2.add_run(' 2.3º ')\r\n",
    "\r\n",
    "p=[None,None]\r\n",
    "p[0]=p1\r\n",
    "p[1]=p2\r\n",
    "\r\n",
    "p[0].add_run().add_picture(FigPath[3], width=Cm(6.0), height=Cm(6.0))\r\n",
    "p[1].add_run().add_picture(FigPath[3], width=Cm(6.0), height=Cm(6.0))\r\n",
    "\r\n",
    "## exportação do arquivo em docx\r\n",
    "\r\n",
    "document.save(dir1+\"\\\\\"+\"teste-export4.docx\")"
   ],
   "outputs": [
    {
     "output_type": "stream",
     "name": "stdout",
     "text": [
      "['2020-11-03', '2020-11-04', '2020-11-05', '2020-11-06', '2020-11-09', '2020-11-10', '2020-11-11', '2020-11-12', '2020-11-13', '2020-11-18', '2020-11-19', '2020-11-20', '2020-11-21', '2020-11-23', '2020-11-24', '2020-11-25', '2020-11-26', '2020-11-27', '2020-11-30']\n",
      "1\n"
     ]
    }
   ],
   "metadata": {}
  },
  {
   "cell_type": "code",
   "execution_count": 228,
   "source": [
    "\r\n",
    "len(datas)"
   ],
   "outputs": [
    {
     "output_type": "execute_result",
     "data": {
      "text/plain": [
       "19"
      ]
     },
     "metadata": {},
     "execution_count": 228
    }
   ],
   "metadata": {
    "scrolled": true
   }
  },
  {
   "cell_type": "code",
   "execution_count": 153,
   "source": [
    "##maneira bem mais simples de importar filtrado o nome dos arquivos\r\n",
    "#import os\r\n",
    "#relevant_path = dir1\r\n",
    "#included_extensions = ['jpg','jpeg', 'bmp', 'png', 'gif']\r\n",
    "#file_names = [fn for fn in os.listdir(relevant_path)\r\n",
    "#              if any(fn.endswith(ext) for ext in included_extensions)]\r\n",
    "#file_names\r\n",
    "\r\n",
    "## modo de coletar a data de cada foto no modelo WhatsApp\r\n",
    "n=5\r\n",
    "print(FigPath[n][(FigPath[n].index(' at')-10):FigPath[n].index(' at')])\r\n",
    "del(n)"
   ],
   "outputs": [
    {
     "output_type": "stream",
     "name": "stdout",
     "text": [
      "2020-11-04\n"
     ]
    }
   ],
   "metadata": {}
  },
  {
   "cell_type": "code",
   "execution_count": 227,
   "source": [
    "A1=[None]*10\r\n",
    "display(A1)"
   ],
   "outputs": [
    {
     "output_type": "display_data",
     "data": {
      "text/plain": [
       "[None, None, None, None, None, None, None, None, None, None]"
      ]
     },
     "metadata": {}
    }
   ],
   "metadata": {}
  }
 ],
 "metadata": {
  "celltoolbar": "Raw Cell Format",
  "kernelspec": {
   "display_name": "Python 3",
   "language": "python",
   "name": "python3"
  },
  "language_info": {
   "codemirror_mode": {
    "name": "ipython",
    "version": 3
   },
   "file_extension": ".py",
   "mimetype": "text/x-python",
   "name": "python",
   "nbconvert_exporter": "python",
   "pygments_lexer": "ipython3",
   "version": "3.8.8"
  }
 },
 "nbformat": 4,
 "nbformat_minor": 5
}