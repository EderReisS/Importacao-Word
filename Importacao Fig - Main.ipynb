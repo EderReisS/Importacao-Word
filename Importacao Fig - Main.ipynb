{
 "cells": [
  {
   "cell_type": "markdown",
   "id": "81497c42",
   "metadata": {},
   "source": [
    "# # impotação e definição de funções "
   ]
  },
  {
   "cell_type": "code",
   "execution_count": null,
   "id": "931e2363",
   "metadata": {},
   "outputs": [],
   "source": [
    "\n",
    "\n"
   ]
  },
  {
   "cell_type": "code",
   "execution_count": 100,
   "id": "ddf73046",
   "metadata": {},
   "outputs": [
    {
     "name": "stdout",
     "output_type": "stream",
     "text": [
      "['2020-11-03', '2020-11-04', '2020-11-05', '2020-11-06', '2020-11-09', '2020-11-10', '2020-11-11', '2020-11-12', '2020-11-13', '2020-11-18', '2020-11-19', '2020-11-20', '2020-11-21', '2020-11-23', '2020-11-24', '2020-11-25', '2020-11-26', '2020-11-27', '2020-11-30']\n"
     ]
    },
    {
     "data": {
      "text/plain": [
       "[<docx.text.paragraph.Paragraph at 0x21654bd3700>,\n",
       " <docx.text.paragraph.Paragraph at 0x21654bf05b0>,\n",
       " <docx.text.paragraph.Paragraph at 0x21654bf0b50>,\n",
       " <docx.text.paragraph.Paragraph at 0x21654bf0880>,\n",
       " <docx.text.paragraph.Paragraph at 0x21654bf01f0>,\n",
       " <docx.text.paragraph.Paragraph at 0x21654bf0ca0>,\n",
       " <docx.text.paragraph.Paragraph at 0x21654bf0c10>,\n",
       " <docx.text.paragraph.Paragraph at 0x21654a79fd0>,\n",
       " <docx.text.paragraph.Paragraph at 0x21654bf09a0>,\n",
       " <docx.text.paragraph.Paragraph at 0x21654bf0c70>,\n",
       " <docx.text.paragraph.Paragraph at 0x21654bf0b80>,\n",
       " <docx.text.paragraph.Paragraph at 0x21654bf0f40>,\n",
       " <docx.text.paragraph.Paragraph at 0x21654bf0e50>,\n",
       " <docx.text.paragraph.Paragraph at 0x21654bf0f70>,\n",
       " <docx.text.paragraph.Paragraph at 0x21654bf0580>,\n",
       " <docx.text.paragraph.Paragraph at 0x21654bf0d90>,\n",
       " <docx.text.paragraph.Paragraph at 0x21654bf0160>,\n",
       " <docx.text.paragraph.Paragraph at 0x21655227070>,\n",
       " <docx.text.paragraph.Paragraph at 0x21655227c70>]"
      ]
     },
     "metadata": {},
     "output_type": "display_data"
    }
   ],
   "source": [
    "from docx import Document\n",
    "from docx.shared import Cm\n",
    "import pandas as pd\n",
    "import os\n",
    "from os.path import join, getsize\n",
    "\n",
    "#adiciona a figura no documento word com tamanho tamanho de 8 centímetros   \n",
    "def adcionar_figura(paragrafo, foto,datas):\n",
    "    ind2=foto.index(' at')\n",
    "    ind1=ind2-10\n",
    "    fotodata=foto[ind1:ind2]\n",
    "    \n",
    "    paragrafo[datas.index(fotodata)].add_run().add_picture(foto, width=Cm(6.0), height=Cm(6.0))\n",
    "    paragrafo[datas.index(fotodata)].add_run(' ')\n",
    "    return paragrafo\n",
    "\n",
    "#cria uma lista com todos os caminhos de arquivos do diretório da figura inicial\n",
    "def Paths_Files(d):\n",
    "    lista=[]\n",
    "    #nome da pasta onde estão as figuras\n",
    "    for root, dirs, files in os.walk(d):#varre todos os arquivos\n",
    "            lista.extend(files) #no diretório é acresentado o nome do arquivo\n",
    "    return lista\n",
    "\n",
    "   \n",
    "            \n",
    "        \n",
    "\n",
    "\n",
    "\n",
    "\n",
    "\n",
    "#definição da variável document para exportação final de um novo arquivo em word\n",
    "document=Document()\n",
    "\n",
    "#caminho de foto qualquer do diretório cuja demais fotos serão importadas\n",
    "# 'r' no prefixo do cainho para conter erros de raw string vs regular string\n",
    "Fig1 = r\"C:\\RioUna\\Memorial Fotográfico Vila do Aeroporto\\2020\\11.novembro-2020\\WhatsApp Image 2020-11-03 at 07.43.40.jpeg\"\n",
    "\n",
    "dir1 = os.path.dirname(Fig1)#nome da pasta onde estão as figuras\n",
    "\n",
    "NomesDir = Paths_Files(dir1)#lista de nome de todos os arquivos da pasta do 'dir1'\n",
    "NomesDir.sort()\n",
    "\n",
    "FigPath=[]#lista com todos os caminhos das figura\n",
    "datas=[]#lista com as datas da\n",
    "\n",
    "\n",
    "for n in NomesDir:#for para filtrar os arquivos imagens válidos\n",
    "      if ('jpeg'or'png') in n:\n",
    "        aux=dir1+\"\\\\\"+n\n",
    "        FigPath.append(aux)\n",
    "else:\n",
    "    del(aux)\n",
    "\n",
    "FigPath.sort()\n",
    "\n",
    "for n in FigPath:\n",
    "    \n",
    "    if 'at' in n:\n",
    "        \n",
    "        ind2=n.index(' at')\n",
    "        ind1=ind2-10\n",
    "        aux=n[ind1:ind2]\n",
    "        if aux not in datas:\n",
    "            datas.append(aux)\n",
    "            \n",
    "else:\n",
    "    del(aux,ind1,ind2)\n",
    "                      \n",
    "datas.sort\n",
    "print(datas)\n",
    "\n",
    "\n",
    "## Próximos passos\n",
    "\n",
    "# 1. Filtrar as as datas para colocar no mesmo titulo\n",
    "\n",
    "datas\n",
    "DiaDaSemana={\n",
    "    0:'segunda-feira',\n",
    "    1:'terça-feira',\n",
    "    2:'quarta-feira',\n",
    "    3:'quinta-feira',\n",
    "    4:'sexta-feira',\n",
    "    5:'sábado',\n",
    "    6:'domingo',\n",
    "    \n",
    "}\n",
    "\n",
    "\n",
    "## criação dos parágrafos\n",
    "paragrafo=[None]*len(datas)\n",
    "\n",
    "# 2. definição dos paragrafos\n",
    "\n",
    "for dia in datas:\n",
    "    document.add_heading(dia+' '+DiaDaSemana[pd.Timestamp(dia).weekday()], level=1)\n",
    "    paragrafo[datas.index(dia)]=document.add_paragraph(' ')\n",
    "    \n",
    "# 3. adicionar imagens em cada parágrafo\n",
    "for foto in FigPath:\n",
    "    adcionar_figura(paragrafo,foto,datas)\n",
    "\n",
    "    \n",
    "## exportação ok DE PARÁGRAFO OK!!! \n",
    "display(paragrafo)\n",
    "document.save(dir1+\"\\\\\"+\"11.novembro2020.docx\")\n",
    "\n"
   ]
  },
  {
   "cell_type": "code",
   "execution_count": 99,
   "id": "02ef31f4",
   "metadata": {},
   "outputs": [
    {
     "data": {
      "text/plain": [
       "Timestamp('2021-07-12 00:00:00')"
      ]
     },
     "metadata": {},
     "output_type": "display_data"
    },
    {
     "data": {
      "text/plain": [
       "datetime.datetime(2021, 7, 14, 9, 52, 40, 219952)"
      ]
     },
     "metadata": {},
     "output_type": "display_data"
    },
    {
     "data": {
      "text/plain": [
       "2"
      ]
     },
     "metadata": {},
     "output_type": "display_data"
    },
    {
     "data": {
      "text/plain": [
       "0"
      ]
     },
     "metadata": {},
     "output_type": "display_data"
    },
    {
     "data": {
      "text/plain": [
       "'sexta-feira'"
      ]
     },
     "execution_count": 99,
     "metadata": {},
     "output_type": "execute_result"
    }
   ],
   "source": [
    "\n",
    "\n",
    "\n",
    "temp = pd.Timestamp('2021-07-12')\n",
    "\n",
    "display(temp)\n",
    "display(datetime.today())\n",
    "display(datetime.today().weekday())\n",
    "display(temp.weekday())\n",
    "\n",
    "pd.Timestamp('2021-07-12').weekday()\n",
    "DiaDaSemana[pd.Timestamp(datas[3]).weekday()]\n"
   ]
  },
  {
   "cell_type": "code",
   "execution_count": 153,
   "id": "a0081e42",
   "metadata": {},
   "outputs": [
    {
     "name": "stdout",
     "output_type": "stream",
     "text": [
      "2020-11-04\n"
     ]
    }
   ],
   "source": [
    "##maneira bem mais simples de importar filtrado o nome dos arquivos\n",
    "#import os\n",
    "#relevant_path = dir1\n",
    "#included_extensions = ['jpg','jpeg', 'bmp', 'png', 'gif']\n",
    "#file_names = [fn for fn in os.listdir(relevant_path)\n",
    "#              if any(fn.endswith(ext) for ext in included_extensions)]\n",
    "#file_names\n",
    "\n",
    "## modo de coletar a data de cada foto no modelo WhatsApp\n",
    "n=5\n",
    "print(FigPath[n][(FigPath[n].index(' at')-10):FigPath[n].index(' at')])\n",
    "del(n)"
   ]
  }
 ],
 "metadata": {
  "celltoolbar": "Raw Cell Format",
  "kernelspec": {
   "display_name": "Python 3",
   "language": "python",
   "name": "python3"
  },
  "language_info": {
   "codemirror_mode": {
    "name": "ipython",
    "version": 3
   },
   "file_extension": ".py",
   "mimetype": "text/x-python",
   "name": "python",
   "nbconvert_exporter": "python",
   "pygments_lexer": "ipython3",
   "version": "3.8.8"
  }
 },
 "nbformat": 4,
 "nbformat_minor": 5
}
